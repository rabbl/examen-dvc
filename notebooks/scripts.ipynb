{
 "cells": [
  {
   "cell_type": "code",
   "id": "initial_id",
   "metadata": {
    "collapsed": true,
    "ExecuteTime": {
     "end_time": "2025-01-11T12:19:07.223131Z",
     "start_time": "2025-01-11T12:19:06.629406Z"
    }
   },
   "source": [
    "import os\n",
    "import pandas as pd\n",
    "from sklearn.model_selection import train_test_split"
   ],
   "outputs": [],
   "execution_count": 1
  },
  {
   "metadata": {
    "ExecuteTime": {
     "end_time": "2025-01-11T12:19:07.243425Z",
     "start_time": "2025-01-11T12:19:07.226278Z"
    }
   },
   "cell_type": "code",
   "source": [
    "# Data Splitting:\n",
    "# Split the data into training and testing sets. Our target variable is silica_concentrate, located in the last column of the dataset.\n",
    "# This script will produce 4 datasets (X_test, X_train, y_test, y_train) that you can store in data/processed.\n",
    "\n",
    "df = pd.read_csv(os.path.join(os.getcwd(), '../data/raw_data/raw.csv'), index_col=0)\n",
    "\n",
    "X = df.drop(columns=['silica_concentrate'])\n",
    "y = df['silica_concentrate']\n",
    "\n",
    "X_train, X_test, y_train, y_test = train_test_split(X, y, test_size=0.2, random_state=42)\n",
    "\n",
    "X_train.to_csv(os.path.join(os.getcwd(), '../data/processed_data/X_train.csv'), index=False)\n",
    "X_test.to_csv(os.path.join(os.getcwd(), '../data/processed_data/X_test.csv'), index=False)\n",
    "\n",
    "y_train.to_csv(os.path.join(os.getcwd(), '../data/processed_data/y_train.csv'), index=False)\n",
    "y_test.to_csv(os.path.join(os.getcwd(), '../data/processed_data/y_test.csv'), index=False)"
   ],
   "id": "3c7ba2bd87788a3f",
   "outputs": [],
   "execution_count": 2
  },
  {
   "metadata": {
    "ExecuteTime": {
     "end_time": "2025-01-11T12:19:07.317985Z",
     "start_time": "2025-01-11T12:19:07.302887Z"
    }
   },
   "cell_type": "code",
   "source": [
    "# Data Normalization: As you may notice, the data varies widely in scale, so normalization is necessary.\n",
    "# You can use existing functions to construct this script.\n",
    "# As output, this script will create two new datasets (X_train_scaled, X_test_scaled) which you will also save in data/processed.\n",
    "\n",
    "from sklearn.preprocessing import StandardScaler\n",
    "\n",
    "scaler = StandardScaler()\n",
    "\n",
    "X_train = pd.read_csv(os.path.join(os.getcwd(), '../data/processed_data/X_train.csv'))\n",
    "X_test = pd.read_csv(os.path.join(os.getcwd(), '../data/processed_data/X_test.csv'))\n",
    "\n",
    "X_train_scaled = scaler.fit_transform(X_train)\n",
    "X_test_scaled = scaler.transform(X_test)\n",
    "\n",
    "X_train_scaled = pd.DataFrame(X_train_scaled, columns=X_train.columns)\n",
    "X_test_scaled = pd.DataFrame(X_test_scaled, columns=X_test.columns)\n",
    "\n",
    "X_train_scaled.to_csv(os.path.join(os.getcwd(), '../data/processed_data/X_train_scaled.csv'), index=False)\n",
    "X_test_scaled.to_csv(os.path.join(os.getcwd(), '../data/processed_data/X_test_scaled.csv'), index=False)\n",
    "\n",
    "print(\"Data normalized successfully.\")"
   ],
   "id": "75a0c5fd2bf81033",
   "outputs": [
    {
     "name": "stdout",
     "output_type": "stream",
     "text": [
      "Data normalized successfully.\n"
     ]
    }
   ],
   "execution_count": 3
  },
  {
   "metadata": {
    "ExecuteTime": {
     "end_time": "2025-01-11T12:19:22.531076Z",
     "start_time": "2025-01-11T12:19:07.327048Z"
    }
   },
   "cell_type": "code",
   "source": [
    "# GridSearch for Best Parameters: Decide on the regression model to implement and the parameters to test.\n",
    "# At the end of this script, we will have the best parameters saved as a .pkl file in the models directory.\n",
    "\n",
    "from sklearn.model_selection import GridSearchCV\n",
    "from sklearn.ensemble import RandomForestRegressor\n",
    "\n",
    "X_train = pd.read_csv(os.path.join(os.getcwd(), '../data/processed_data/X_train_scaled.csv'))\n",
    "y_train = pd.read_csv(os.path.join(os.getcwd(), '../data/processed_data/y_train.csv')).values.ravel()\n",
    "\n",
    "param_grid = {\n",
    "    'n_estimators': [100, 200, 300],\n",
    "    'max_depth': [10, 20, 30],\n",
    "    'min_samples_split': [2, 5, 10],\n",
    "    'min_samples_leaf': [1, 2, 4]\n",
    "}\n",
    "\n",
    "rf = RandomForestRegressor()\n",
    "\n",
    "grid_search = GridSearchCV(estimator=rf, param_grid=param_grid, cv=3, n_jobs=-1, verbose=2)\n",
    "grid_search.fit(X_train, y_train)\n",
    "\n",
    "best_params = grid_search.best_params_\n",
    "\n",
    "import joblib\n",
    "\n",
    "joblib.dump(best_params, os.path.join(os.getcwd(), '../models/best_params.pkl'))\n",
    "print(\"Best parameters saved successfully.\")\n"
   ],
   "id": "bffc257ef8ad1745",
   "outputs": [
    {
     "name": "stdout",
     "output_type": "stream",
     "text": [
      "Fitting 3 folds for each of 81 candidates, totalling 243 fits\n",
      "Best parameters saved successfully.\n"
     ]
    }
   ],
   "execution_count": 4
  },
  {
   "metadata": {
    "ExecuteTime": {
     "end_time": "2025-01-11T12:19:23.261882Z",
     "start_time": "2025-01-11T12:19:22.542549Z"
    }
   },
   "cell_type": "code",
   "source": [
    "# Model Training: Using the parameters found through GridSearch, we will train the model and save the trained model in the models directory.\n",
    "\n",
    "X_train = pd.read_csv(os.path.join(os.getcwd(), '../data/processed_data/X_train_scaled.csv'))\n",
    "y_train = pd.read_csv(os.path.join(os.getcwd(), '../data/processed_data/y_train.csv')).values.ravel()\n",
    "\n",
    "best_params = joblib.load(os.path.join(os.getcwd(), '../models/best_params.pkl'))\n",
    "\n",
    "rf = RandomForestRegressor(**best_params)\n",
    "\n",
    "rf.fit(X_train, y_train)\n",
    "\n",
    "joblib.dump(rf, os.path.join(os.getcwd(), '../models/trained_model.pkl'))\n",
    "\n",
    "print(\"Model trained and saved successfully.\")"
   ],
   "id": "eafed996b6506e3e",
   "outputs": [
    {
     "name": "stdout",
     "output_type": "stream",
     "text": [
      "Model trained and saved successfully.\n"
     ]
    }
   ],
   "execution_count": 5
  },
  {
   "metadata": {
    "ExecuteTime": {
     "end_time": "2025-01-11T12:19:23.305150Z",
     "start_time": "2025-01-11T12:19:23.275109Z"
    }
   },
   "cell_type": "code",
   "source": [
    "# Model Evaluation: Finally, using the trained model, we will evaluate its performance and make predictions.\n",
    "# At the end of this script, we will have a new dataset in data containing the predictions,\n",
    "# along with a scores.json file in the metrics directory that will capture evaluation metrics of our model (e.g., MSE, R2).\n",
    "\n",
    "X_test = pd.read_csv(os.path.join(os.getcwd(), '../data/processed_data/X_test_scaled.csv'))\n",
    "y_test = pd.read_csv(os.path.join(os.getcwd(), '../data/processed_data/y_test.csv')).values.ravel()\n",
    "\n",
    "rf = joblib.load(os.path.join(os.getcwd(), '../models/trained_model.pkl'))\n",
    "\n",
    "predictions = rf.predict(X_test)\n",
    "\n",
    "from sklearn.metrics import mean_squared_error, r2_score\n",
    "\n",
    "mse = mean_squared_error(y_test, predictions)\n",
    "r2 = r2_score(y_test, predictions)\n",
    "\n",
    "scores = {\n",
    "    'mse': mse,\n",
    "    'r2': r2\n",
    "}\n",
    "\n",
    "import json\n",
    "\n",
    "with open(os.path.join(os.getcwd(), '../metrics/scores.json'), 'w') as f:\n",
    "    json.dump(scores, f)\n",
    "\n",
    "predictions_df = pd.DataFrame(predictions, columns=['silica_concentrate'])\n",
    "\n",
    "\n",
    "os.makedirs(os.path.join(os.getcwd(), '../data/predictions'), exist_ok=True)\n",
    "predictions_df.to_csv(os.path.join(os.getcwd(), '../data/predictions/predictions.csv'), index=False)\n",
    "\n",
    "print(\"Model evaluated successfully.\")\n"
   ],
   "id": "bd6c56e4e3879f31",
   "outputs": [
    {
     "name": "stdout",
     "output_type": "stream",
     "text": [
      "Model evaluated successfully.\n"
     ]
    }
   ],
   "execution_count": 6
  },
  {
   "metadata": {
    "ExecuteTime": {
     "end_time": "2025-01-11T12:19:23.318370Z",
     "start_time": "2025-01-11T12:19:23.316917Z"
    }
   },
   "cell_type": "code",
   "source": "",
   "id": "e08c29f65e84be57",
   "outputs": [],
   "execution_count": null
  }
 ],
 "metadata": {
  "kernelspec": {
   "display_name": "Python 3",
   "language": "python",
   "name": "python3"
  },
  "language_info": {
   "codemirror_mode": {
    "name": "ipython",
    "version": 2
   },
   "file_extension": ".py",
   "mimetype": "text/x-python",
   "name": "python",
   "nbconvert_exporter": "python",
   "pygments_lexer": "ipython2",
   "version": "2.7.6"
  }
 },
 "nbformat": 4,
 "nbformat_minor": 5
}
